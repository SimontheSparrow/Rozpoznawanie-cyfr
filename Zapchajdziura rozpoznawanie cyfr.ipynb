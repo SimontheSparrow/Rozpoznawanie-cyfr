{
 "cells": [
  {
   "cell_type": "markdown",
   "id": "9ba634ad",
   "metadata": {},
   "source": [
    "# Zapchajdziura / eksperymentalny!"
   ]
  },
  {
   "cell_type": "code",
   "execution_count": 6,
   "id": "3fb0c260",
   "metadata": {},
   "outputs": [],
   "source": [
    "import numpy as np\n",
    "import pandas as pd\n",
    "import matplotlib.pyplot as plt\n",
    "import seaborn as sns\n",
    "from sklearn import datasets\n",
    "from sklearn.metrics import classification_report, confusion_matrix\n",
    "from sklearn.model_selection import train_test_split\n"
   ]
  },
  {
   "cell_type": "code",
   "execution_count": 3,
   "id": "a3a50651",
   "metadata": {},
   "outputs": [],
   "source": [
    "raw_digits = datasets.load_digits()\n",
    "digits = raw_digits.copy()"
   ]
  },
  {
   "cell_type": "code",
   "execution_count": 4,
   "id": "30300132",
   "metadata": {},
   "outputs": [],
   "source": [
    "images = digits['images']\n",
    "targets = digits['target']"
   ]
  },
  {
   "cell_type": "code",
   "execution_count": 5,
   "id": "fc7f0f87",
   "metadata": {},
   "outputs": [
    {
     "data": {
      "image/png": "[encoded data removed]",
      "text/plain": [
       "<Figure size 864x720 with 6 Axes>"
      ]
     },
     "metadata": {
      "needs_background": "light"
     },
     "output_type": "display_data"
    }
   ],
   "source": [
    "plt.figure(figsize=(12, 10))\n",
    "for index, (image, target) in enumerate(list(zip(images, targets))[:6]):\n",
    "    plt.subplot(2, 6, index + 1)\n",
    "    plt.axis('off')\n",
    "    plt.imshow(image, cmap='Greys')\n",
    "    plt.title(f'Label: {target}')"
   ]
  },
  {
   "cell_type": "code",
   "execution_count": 7,
   "id": "632a3ca9",
   "metadata": {},
   "outputs": [],
   "source": [
    "X_train, X_test, y_train, y_test = train_test_split(images, targets)"
   ]
  },
  {
   "cell_type": "code",
   "execution_count": 8,
   "id": "d7164ed9",
   "metadata": {},
   "outputs": [],
   "source": [
    "X_train = X_train.reshape(X_train.shape[0], -1)\n",
    "X_test = X_test.reshape(X_test.shape[0], -1)"
   ]
  },
  {
   "cell_type": "code",
   "execution_count": 10,
   "id": "12ea65ba",
   "metadata": {},
   "outputs": [],
   "source": [
    "from sklearn.linear_model import LogisticRegression\n",
    "from sklearn.svm import SVC, LinearSVC\n",
    "from sklearn.ensemble import RandomForestClassifier\n",
    "from sklearn.neighbors import KNeighborsClassifier\n",
    "from sklearn.naive_bayes import GaussianNB\n",
    "\n",
    "from sklearn.linear_model import SGDClassifier\n",
    "from sklearn.tree import DecisionTreeClassifier\n"
   ]
  },
  {
   "cell_type": "code",
   "execution_count": 9,
   "id": "dc023287",
   "metadata": {},
   "outputs": [
    {
     "name": "stdout",
     "output_type": "stream",
     "text": [
      "              precision    recall  f1-score   support\n",
      "\n",
      "           0       0.98      1.00      0.99        49\n",
      "           1       0.90      0.97      0.94        39\n",
      "           2       1.00      1.00      1.00        42\n",
      "           3       0.98      0.96      0.97        47\n",
      "           4       1.00      0.92      0.96        52\n",
      "           5       0.93      1.00      0.96        39\n",
      "           6       1.00      1.00      1.00        38\n",
      "           7       1.00      0.98      0.99        49\n",
      "           8       0.93      0.93      0.93        44\n",
      "           9       0.94      0.92      0.93        51\n",
      "\n",
      "    accuracy                           0.97       450\n",
      "   macro avg       0.97      0.97      0.97       450\n",
      "weighted avg       0.97      0.97      0.97       450\n",
      "\n"
     ]
    }
   ],
   "source": [
    "model = SVC(gamma=0.001, kernel='linear')\n",
    "model.fit(X_train, y_train)\n",
    "\n",
    "model.score(X_test, y_test)\n",
    "y_pred = model.predict(X_test)\n",
    "print(classification_report(y_test, y_pred))"
   ]
  },
  {
   "cell_type": "code",
   "execution_count": 11,
   "id": "4576de00",
   "metadata": {},
   "outputs": [
    {
     "name": "stdout",
     "output_type": "stream",
     "text": [
      "              precision    recall  f1-score   support\n",
      "\n",
      "           0       1.00      0.98      0.99        49\n",
      "           1       0.85      0.90      0.88        39\n",
      "           2       0.98      0.98      0.98        42\n",
      "           3       0.98      0.96      0.97        47\n",
      "           4       0.98      0.90      0.94        52\n",
      "           5       0.93      0.97      0.95        39\n",
      "           6       1.00      1.00      1.00        38\n",
      "           7       0.98      0.98      0.98        49\n",
      "           8       0.95      0.93      0.94        44\n",
      "           9       0.89      0.94      0.91        51\n",
      "\n",
      "    accuracy                           0.95       450\n",
      "   macro avg       0.95      0.95      0.95       450\n",
      "weighted avg       0.95      0.95      0.95       450\n",
      "\n"
     ]
    },
    {
     "name": "stderr",
     "output_type": "stream",
     "text": [
      "C:\\Users\\sparr\\anaconda3\\lib\\site-packages\\sklearn\\linear_model\\_logistic.py:763: ConvergenceWarning: lbfgs failed to converge (status=1):\n",
      "STOP: TOTAL NO. of ITERATIONS REACHED LIMIT.\n",
      "\n",
      "Increase the number of iterations (max_iter) or scale the data as shown in:\n",
      "    https://scikit-learn.org/stable/modules/preprocessing.html\n",
      "Please also refer to the documentation for alternative solver options:\n",
      "    https://scikit-learn.org/stable/modules/linear_model.html#logistic-regression\n",
      "  n_iter_i = _check_optimize_result(\n"
     ]
    }
   ],
   "source": [
    "model = LogisticRegression()\n",
    "model.fit(X_train, y_train)\n",
    "\n",
    "model.score(X_test, y_test)\n",
    "y_pred = model.predict(X_test)\n",
    "print(classification_report(y_test, y_pred))"
   ]
  },
  {
   "cell_type": "code",
   "execution_count": 12,
   "id": "5adfca44",
   "metadata": {},
   "outputs": [
    {
     "name": "stdout",
     "output_type": "stream",
     "text": [
      "              precision    recall  f1-score   support\n",
      "\n",
      "           0       1.00      0.98      0.99        49\n",
      "           1       0.93      1.00      0.96        39\n",
      "           2       1.00      1.00      1.00        42\n",
      "           3       0.98      0.96      0.97        47\n",
      "           4       0.98      0.92      0.95        52\n",
      "           5       0.91      1.00      0.95        39\n",
      "           6       1.00      1.00      1.00        38\n",
      "           7       0.89      1.00      0.94        49\n",
      "           8       1.00      0.91      0.95        44\n",
      "           9       0.96      0.88      0.92        51\n",
      "\n",
      "    accuracy                           0.96       450\n",
      "   macro avg       0.96      0.97      0.96       450\n",
      "weighted avg       0.96      0.96      0.96       450\n",
      "\n"
     ]
    }
   ],
   "source": [
    "model = RandomForestClassifier()\n",
    "model.fit(X_train, y_train)\n",
    "\n",
    "model.score(X_test, y_test)\n",
    "y_pred = model.predict(X_test)\n",
    "print(classification_report(y_test, y_pred))"
   ]
  },
  {
   "cell_type": "code",
   "execution_count": 13,
   "id": "b7217155",
   "metadata": {},
   "outputs": [
    {
     "name": "stdout",
     "output_type": "stream",
     "text": [
      "              precision    recall  f1-score   support\n",
      "\n",
      "           0       1.00      0.98      0.99        49\n",
      "           1       0.91      1.00      0.95        39\n",
      "           2       1.00      1.00      1.00        42\n",
      "           3       0.98      0.98      0.98        47\n",
      "           4       0.98      0.94      0.96        52\n",
      "           5       0.95      1.00      0.97        39\n",
      "           6       1.00      1.00      1.00        38\n",
      "           7       0.98      1.00      0.99        49\n",
      "           8       0.98      0.93      0.95        44\n",
      "           9       0.98      0.94      0.96        51\n",
      "\n",
      "    accuracy                           0.98       450\n",
      "   macro avg       0.98      0.98      0.98       450\n",
      "weighted avg       0.98      0.98      0.98       450\n",
      "\n"
     ]
    }
   ],
   "source": [
    "model = KNeighborsClassifier()\n",
    "model.fit(X_train, y_train)\n",
    "\n",
    "model.score(X_test, y_test)\n",
    "y_pred = model.predict(X_test)\n",
    "print(classification_report(y_test, y_pred))"
   ]
  },
  {
   "cell_type": "code",
   "execution_count": 14,
   "id": "8f04ff51",
   "metadata": {},
   "outputs": [
    {
     "name": "stdout",
     "output_type": "stream",
     "text": [
      "              precision    recall  f1-score   support\n",
      "\n",
      "           0       1.00      0.96      0.98        49\n",
      "           1       0.73      0.77      0.75        39\n",
      "           2       0.97      0.67      0.79        42\n",
      "           3       0.91      0.83      0.87        47\n",
      "           4       0.92      0.88      0.90        52\n",
      "           5       0.85      0.90      0.88        39\n",
      "           6       1.00      1.00      1.00        38\n",
      "           7       0.71      1.00      0.83        49\n",
      "           8       0.57      0.77      0.65        44\n",
      "           9       0.88      0.55      0.67        51\n",
      "\n",
      "    accuracy                           0.83       450\n",
      "   macro avg       0.85      0.83      0.83       450\n",
      "weighted avg       0.85      0.83      0.83       450\n",
      "\n"
     ]
    }
   ],
   "source": [
    "model = GaussianNB()\n",
    "model.fit(X_train, y_train)\n",
    "\n",
    "model.score(X_test, y_test)\n",
    "y_pred = model.predict(X_test)\n",
    "print(classification_report(y_test, y_pred))"
   ]
  },
  {
   "cell_type": "code",
   "execution_count": 15,
   "id": "d26e56fd",
   "metadata": {},
   "outputs": [
    {
     "name": "stdout",
     "output_type": "stream",
     "text": [
      "              precision    recall  f1-score   support\n",
      "\n",
      "           0       0.98      0.96      0.97        49\n",
      "           1       0.82      0.92      0.87        39\n",
      "           2       0.98      0.98      0.98        42\n",
      "           3       0.98      0.91      0.95        47\n",
      "           4       1.00      0.92      0.96        52\n",
      "           5       0.88      0.97      0.93        39\n",
      "           6       1.00      1.00      1.00        38\n",
      "           7       0.94      1.00      0.97        49\n",
      "           8       0.89      0.89      0.89        44\n",
      "           9       0.94      0.86      0.90        51\n",
      "\n",
      "    accuracy                           0.94       450\n",
      "   macro avg       0.94      0.94      0.94       450\n",
      "weighted avg       0.94      0.94      0.94       450\n",
      "\n"
     ]
    }
   ],
   "source": [
    "from xgboost.sklearn import XGBClassifier\n",
    "\n",
    "model = XGBClassifier()\n",
    "model.fit(X_train, y_train)\n",
    "\n",
    "model.score(X_test, y_test)\n",
    "y_pred = model.predict(X_test)\n",
    "print(classification_report(y_test, y_pred))"
   ]
  }
 ],
 "metadata": {
  "kernelspec": {
   "display_name": "Python 3 (ipykernel)",
   "language": "python",
   "name": "python3"
  },
  "language_info": {
   "codemirror_mode": {
    "name": "ipython",
    "version": 3
   },
   "file_extension": ".py",
   "mimetype": "text/x-python",
   "name": "python",
   "nbconvert_exporter": "python",
   "pygments_lexer": "ipython3",
   "version": "3.9.7"
  }
 },
 "nbformat": 4,
 "nbformat_minor": 5
}
